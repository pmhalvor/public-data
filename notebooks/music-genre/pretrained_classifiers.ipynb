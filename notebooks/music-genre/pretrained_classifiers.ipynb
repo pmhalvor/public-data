{
 "cells": [
  {
   "cell_type": "markdown",
   "metadata": {},
   "source": [
    "# Music genre classifier\n",
    "## Pretrained classifiers\n",
    "This notebook should be see as the third step in a series of notebooks aimed to build an ML audio classifier.\n",
    "\n",
    "We continue our journey of music classification by trainging more complex models, such as CNNs and RNNs.\n",
    "After this, we will see how our results compare against a pretrained model. \n",
    "If you missed our previous steps, you can find them here:\n",
    "\n",
    "- [preprocessing](https://github.com/pmhalvor/public-data/blob/master/notebooks/music-genre/preprocess.py)\n",
    "- [traditional classifiers](https://github.com/pmhalvor/public-data/blob/master/notebooks/music-genre/classifiers.py) (note: currently only on branch [add/classifiers](https://github.com/pmhalvor/public-data/blob/add/classifiers/notebooks/music-genre/classifiers.ipynb))\n",
    "\n",
    "\n",
    "## Goal\n",
    "Test open-source pretrained models on our dataset, and compare the results to our own models.\n",
    "\n",
    "## Dataset\n",
    "The dataset contains 1000 audio tracks each 30 seconds long. It contains 10 genres, each represented by 100 tracks. The tracks were all 22050Hz Mono 16-bit audio files in .wav format.\n",
    "In [preprocess.py](preprocess.py), we convert the .wav fiels to MFCC features, and store them as PyTorch tensors (`mfcc.pt`). Labels and file paths are stored as numpy-arrays. \n",
    "\n",
    "## Source\n",
    "https://www.kaggle.com/datasets/andradaolteanu/gtzan-dataset-music-genre-classification/ (accessed 2023-10-20)"
   ]
  },
  {
   "cell_type": "code",
   "execution_count": 1,
   "metadata": {},
   "outputs": [],
   "source": [
    "from functools import partial\n",
    "from sklearn.model_selection import train_test_split, GridSearchCV\n",
    "from sklearn.metrics import accuracy_score, confusion_matrix, classification_report, f1_score\n",
    "from skorch import NeuralNetClassifier\n",
    "from tqdm import tqdm\n",
    "\n",
    "import numpy as np\n",
    "import pandas as pd\n",
    "import plotly.express as px\n",
    "import plotly.graph_objects as go\n",
    "import torch\n",
    "import torch.nn as nn\n",
    "import torch.nn.functional as F\n",
    "import torch.optim as optim"
   ]
  },
  {
   "cell_type": "code",
   "execution_count": 2,
   "metadata": {},
   "outputs": [
    {
     "data": {
      "text/plain": [
       "[{'score': 0.08050668239593506, 'label': 'Non-Music---Field Recording'},\n",
       " {'score': 0.06392410397529602, 'label': 'Electronic---Noise'},\n",
       " {'score': 0.03836221247911453, 'label': 'Electronic---Experimental'},\n",
       " {'score': 0.03440581634640694, 'label': 'Electronic---Glitch'},\n",
       " {'score': 0.02098962664604187, 'label': 'Non-Music---Political'}]"
      ]
     },
     "execution_count": 2,
     "metadata": {},
     "output_type": "execute_result"
    }
   ],
   "source": [
    "import numpy as np\n",
    "from transformers import pipeline\n",
    "\n",
    "# audio @16kHz\n",
    "audio = np.random.randn(30 * 16000)\n",
    "\n",
    "pipe = pipeline(\"audio-classification\", model=\"mtg-upf/discogs-maest-30s-pw-73e-ts\")\n",
    "pipe(audio)"
   ]
  },
  {
   "cell_type": "code",
   "execution_count": 3,
   "metadata": {},
   "outputs": [
    {
     "data": {
      "text/plain": [
       "[{'score': 0.11369985342025757, 'label': 'Electronic---Noise'},\n",
       " {'score': 0.09564154595136642, 'label': 'Electronic---Experimental'},\n",
       " {'score': 0.056505050510168076, 'label': 'Non-Music---Field Recording'},\n",
       " {'score': 0.05239567905664444, 'label': 'Electronic---Glitch'},\n",
       " {'score': 0.0440823957324028, 'label': 'Electronic---Abstract'}]"
      ]
     },
     "execution_count": 3,
     "metadata": {},
     "output_type": "execute_result"
    }
   ],
   "source": [
    "pipe(np.random.rand(10000000))"
   ]
  },
  {
   "cell_type": "code",
   "execution_count": 4,
   "metadata": {},
   "outputs": [
    {
     "data": {
      "text/plain": [
       "[{'score': 0.021648230031132698, 'label': 'Electronic---House'},\n",
       " {'score': 0.013834518380463123, 'label': 'Electronic---Synth-pop'},\n",
       " {'score': 0.011615021154284477, 'label': 'Electronic---Experimental'},\n",
       " {'score': 0.011414248496294022, 'label': 'Funk / Soul---Funk'},\n",
       " {'score': 0.011334141716361046, 'label': 'Folk, World, & Country---Folk'}]"
      ]
     },
     "execution_count": 4,
     "metadata": {},
     "output_type": "execute_result"
    }
   ],
   "source": [
    "pipe(np.random.rand(3))\n"
   ]
  },
  {
   "cell_type": "code",
   "execution_count": 5,
   "metadata": {},
   "outputs": [
    {
     "data": {
      "text/plain": [
       "'\\nMAEST is designed to accept data in different input formats:\\n\\n1D: 16kHz audio waveform is assumed.\\n2D: mel-spectrogram is assumed (frequency, time).\\n3D: batched mel-spectrogram (batch, frequency, time).\\n4D: batched mel-spectrgroam plus singleton channel axis (batch, 1, frequency, time).\\n'"
      ]
     },
     "execution_count": 5,
     "metadata": {},
     "output_type": "execute_result"
    }
   ],
   "source": [
    "\"\"\"\n",
    "MAEST is designed to accept data in different input formats:\n",
    "\n",
    "1D: 16kHz audio waveform is assumed.\n",
    "2D: mel-spectrogram is assumed (frequency, time).\n",
    "3D: batched mel-spectrogram (batch, frequency, time).\n",
    "4D: batched mel-spectrgroam plus singleton channel axis (batch, 1, frequency, time).\n",
    "\"\"\""
   ]
  },
  {
   "cell_type": "markdown",
   "metadata": {},
   "source": [
    "# Load data"
   ]
  },
  {
   "cell_type": "code",
   "execution_count": 6,
   "metadata": {},
   "outputs": [],
   "source": [
    "mfcc_tensor = torch.load(\"mfcc.pt\")\n",
    "covariance_tensor =  torch.load(\"covariance.pt\")\n",
    "file_paths = np.load(\"file_paths.npy\")\n",
    "labels = np.load(\"labels.npy\")"
   ]
  },
  {
   "cell_type": "code",
   "execution_count": 7,
   "metadata": {},
   "outputs": [
    {
     "data": {
      "text/plain": [
       "{'blues': 0,\n",
       " 'classical': 1,\n",
       " 'country': 2,\n",
       " 'disco': 3,\n",
       " 'hiphop': 4,\n",
       " 'jazz': 5,\n",
       " 'metal': 6,\n",
       " 'pop': 7,\n",
       " 'reggae': 8,\n",
       " 'rock': 9}"
      ]
     },
     "execution_count": 7,
     "metadata": {},
     "output_type": "execute_result"
    }
   ],
   "source": [
    "labels_to_idx = {label: idx for idx, label in enumerate(np.unique(labels))}\n",
    "idx_to_labels = {idx: label for idx, label in enumerate(np.unique(labels))}\n",
    "labels_to_idx"
   ]
  },
  {
   "cell_type": "markdown",
   "metadata": {},
   "source": [
    "# Preprocess data\n",
    "https://github.com/palonso/MAEST/blob/main/datasets/mtt/preprocess.py "
   ]
  },
  {
   "cell_type": "code",
   "execution_count": null,
   "metadata": {},
   "outputs": [],
   "source": []
  },
  {
   "cell_type": "markdown",
   "metadata": {},
   "source": [
    "## Train test split\n",
    "Might delete this later."
   ]
  },
  {
   "cell_type": "code",
   "execution_count": 8,
   "metadata": {},
   "outputs": [],
   "source": [
    "# Reshape the data into a 2D array (num_samples, num_features)\n",
    "num_samples, num_frames, num_mfcc = mfcc_tensor.shape\n",
    "mfcc_tensor_2d = np.reshape(mfcc_tensor, (num_samples, num_frames * num_mfcc))\n",
    "\n",
    "# Split the data into training and testing sets\n",
    "X_train, X_test, y_train, y_test = train_test_split(mfcc_tensor_2d, labels, test_size=0.2, random_state=42)\n",
    "\n",
    "# Get validation set\n",
    "X_train, X_val, y_train, y_val = train_test_split(X_train, y_train, test_size=0.1, random_state=42)"
   ]
  },
  {
   "cell_type": "code",
   "execution_count": 9,
   "metadata": {},
   "outputs": [
    {
     "data": {
      "text/plain": [
       "torch.Size([719, 38818])"
      ]
     },
     "execution_count": 9,
     "metadata": {},
     "output_type": "execute_result"
    }
   ],
   "source": [
    "X_train.shape"
   ]
  },
  {
   "cell_type": "code",
   "execution_count": 10,
   "metadata": {},
   "outputs": [
    {
     "data": {
      "text/plain": [
       "'classical'"
      ]
     },
     "execution_count": 10,
     "metadata": {},
     "output_type": "execute_result"
    }
   ],
   "source": [
    "y_train[0]"
   ]
  },
  {
   "cell_type": "code",
   "execution_count": 11,
   "metadata": {},
   "outputs": [
    {
     "data": {
      "text/plain": [
       "tensor([ 68.4585,  -8.7303, -31.3657,  ...,   4.8434,  20.1321, -17.2632])"
      ]
     },
     "execution_count": 11,
     "metadata": {},
     "output_type": "execute_result"
    }
   ],
   "source": [
    "X_train[0]"
   ]
  },
  {
   "cell_type": "markdown",
   "metadata": {},
   "source": [
    "# Test feeding model"
   ]
  },
  {
   "cell_type": "code",
   "execution_count": 94,
   "metadata": {},
   "outputs": [
    {
     "data": {
      "text/plain": [
       "(1877, 96)"
      ]
     },
     "execution_count": 94,
     "metadata": {},
     "output_type": "execute_result"
    }
   ],
   "source": [
    "file = \"../../melbands.npy\"\n",
    "with open(file, 'rb') as f:\n",
    "    blues = np.load(f, allow_pickle=True)\n",
    "\n",
    "blues.shape"
   ]
  },
  {
   "cell_type": "code",
   "execution_count": 95,
   "metadata": {},
   "outputs": [
    {
     "data": {
      "text/plain": [
       "array([3.064 , 2.951 , 2.645 , ..., 0.2291, 0.2312, 0.2028], dtype=float16)"
      ]
     },
     "execution_count": 95,
     "metadata": {},
     "output_type": "execute_result"
    }
   ],
   "source": [
    "blues.reshape(1877* 96)"
   ]
  },
  {
   "cell_type": "code",
   "execution_count": 96,
   "metadata": {},
   "outputs": [
    {
     "data": {
      "text/plain": [
       "[{'score': 0.1781368851661682, 'label': 'Electronic---Noise'},\n",
       " {'score': 0.08388300985097885, 'label': 'Electronic---Experimental'},\n",
       " {'score': 0.07882019132375717, 'label': 'Electronic---Glitch'},\n",
       " {'score': 0.06479445099830627, 'label': 'Electronic---Abstract'},\n",
       " {'score': 0.053518954664468765, 'label': 'Electronic---Power Electronics'}]"
      ]
     },
     "execution_count": 96,
     "metadata": {},
     "output_type": "execute_result"
    }
   ],
   "source": [
    "pipe(blues.reshape(1877* 96))"
   ]
  },
  {
   "cell_type": "code",
   "execution_count": 12,
   "metadata": {},
   "outputs": [
    {
     "data": {
      "text/plain": [
       "[{'score': 0.353606641292572, 'label': 'Electronic---Noise'},\n",
       " {'score': 0.04757178947329521, 'label': 'Electronic---Power Electronics'},\n",
       " {'score': 0.042233750224113464, 'label': 'Electronic---Experimental'},\n",
       " {'score': 0.03940293937921524, 'label': 'Rock---Noise'},\n",
       " {'score': 0.03595265746116638, 'label': 'Electronic---Industrial'}]"
      ]
     },
     "execution_count": 12,
     "metadata": {},
     "output_type": "execute_result"
    }
   ],
   "source": [
    "pipe(X_train[0].numpy())"
   ]
  },
  {
   "cell_type": "code",
   "execution_count": 13,
   "metadata": {},
   "outputs": [
    {
     "name": "stdout",
     "output_type": "stream",
     "text": [
      "[{'score': 0.353606641292572, 'label': 'Electronic---Noise'}, {'score': 0.04757178947329521, 'label': 'Electronic---Power Electronics'}, {'score': 0.042233750224113464, 'label': 'Electronic---Experimental'}, {'score': 0.03940293937921524, 'label': 'Rock---Noise'}, {'score': 0.03595265746116638, 'label': 'Electronic---Industrial'}]\n",
      "classical\n",
      "----------\n",
      "[{'score': 0.30069082975387573, 'label': 'Electronic---Noise'}, {'score': 0.045320652425289154, 'label': 'Rock---Noise'}, {'score': 0.04330591484904289, 'label': 'Electronic---Power Electronics'}, {'score': 0.038458213210105896, 'label': 'Electronic---Rhythmic Noise'}, {'score': 0.037081748247146606, 'label': 'Electronic---Experimental'}]\n",
      "blues\n",
      "----------\n",
      "[{'score': 0.3399991989135742, 'label': 'Electronic---Noise'}, {'score': 0.04738768935203552, 'label': 'Electronic---Power Electronics'}, {'score': 0.04102112725377083, 'label': 'Rock---Noise'}, {'score': 0.038403041660785675, 'label': 'Electronic---Experimental'}, {'score': 0.03184948489069939, 'label': 'Electronic---Rhythmic Noise'}]\n",
      "disco\n",
      "----------\n",
      "[{'score': 0.2971172332763672, 'label': 'Electronic---Noise'}, {'score': 0.05284711346030235, 'label': 'Electronic---Power Electronics'}, {'score': 0.04490352421998978, 'label': 'Electronic---Experimental'}, {'score': 0.03899359703063965, 'label': 'Electronic---Rhythmic Noise'}, {'score': 0.03329168260097504, 'label': 'Rock---Noise'}]\n",
      "pop\n",
      "----------\n",
      "[{'score': 0.2682130038738251, 'label': 'Electronic---Noise'}, {'score': 0.047495294362306595, 'label': 'Rock---Noise'}, {'score': 0.04680301994085312, 'label': 'Electronic---Rhythmic Noise'}, {'score': 0.0377768836915493, 'label': 'Electronic---Experimental'}, {'score': 0.03514918312430382, 'label': 'Electronic---Power Electronics'}]\n",
      "reggae\n",
      "----------\n",
      "[{'score': 0.3630811870098114, 'label': 'Electronic---Noise'}, {'score': 0.058671094477176666, 'label': 'Electronic---Power Electronics'}, {'score': 0.04180403798818588, 'label': 'Rock---Noise'}, {'score': 0.036948200315237045, 'label': 'Electronic---Experimental'}, {'score': 0.03313352167606354, 'label': 'Electronic---Rhythmic Noise'}]\n",
      "rock\n",
      "----------\n",
      "[{'score': 0.30114123225212097, 'label': 'Electronic---Noise'}, {'score': 0.04999115318059921, 'label': 'Electronic---Power Electronics'}, {'score': 0.04702392593026161, 'label': 'Rock---Noise'}, {'score': 0.04449932277202606, 'label': 'Electronic---Rhythmic Noise'}, {'score': 0.03592434152960777, 'label': 'Electronic---Experimental'}]\n",
      "reggae\n",
      "----------\n",
      "[{'score': 0.327604740858078, 'label': 'Electronic---Noise'}, {'score': 0.05507044494152069, 'label': 'Electronic---Power Electronics'}, {'score': 0.03970910236239433, 'label': 'Electronic---Experimental'}, {'score': 0.036303021013736725, 'label': 'Rock---Noise'}, {'score': 0.03556061536073685, 'label': 'Electronic---Industrial'}]\n",
      "jazz\n",
      "----------\n",
      "[{'score': 0.3414921462535858, 'label': 'Electronic---Noise'}, {'score': 0.049406252801418304, 'label': 'Electronic---Power Electronics'}, {'score': 0.046106770634651184, 'label': 'Rock---Noise'}, {'score': 0.03890962898731232, 'label': 'Electronic---Experimental'}, {'score': 0.036824312061071396, 'label': 'Electronic---Industrial'}]\n",
      "country\n",
      "----------\n",
      "[{'score': 0.2676883339881897, 'label': 'Electronic---Noise'}, {'score': 0.047796815633773804, 'label': 'Electronic---Rhythmic Noise'}, {'score': 0.04437699913978577, 'label': 'Electronic---Power Electronics'}, {'score': 0.04110417887568474, 'label': 'Electronic---Experimental'}, {'score': 0.03445286676287651, 'label': 'Rock---Noise'}]\n",
      "reggae\n",
      "----------\n"
     ]
    }
   ],
   "source": [
    "N = 10\n",
    "\n",
    "for x, y in zip(X_train[:N], y_train[:N]):\n",
    "    print(pipe(x.numpy()))\n",
    "    print(y)\n",
    "    print(\"-\"*N)"
   ]
  },
  {
   "cell_type": "markdown",
   "metadata": {},
   "source": [
    "Looks the model is most likely to predict \"noise\" for all our samples. \n",
    "This tells us that our dataset is not very similar to the dataset the model was trained on.\n",
    "\n",
    "We can try fine-tuning the model on a subsample of our dataset. \n",
    "\n",
    "An alternative here, would be to tweak our pre-processing to match the pre-processing of the model.\n",
    "We can try that if this first step doesn't work? "
   ]
  },
  {
   "cell_type": "markdown",
   "metadata": {},
   "source": [
    "# Fine-tune model"
   ]
  },
  {
   "cell_type": "code",
   "execution_count": 14,
   "metadata": {},
   "outputs": [
    {
     "data": {
      "text/plain": [
       "array([ 74.0644  , -13.225058, -21.110668, ...,  -8.67979 , -16.61049 ,\n",
       "       -16.836916], dtype=float32)"
      ]
     },
     "execution_count": 14,
     "metadata": {},
     "output_type": "execute_result"
    }
   ],
   "source": [
    "X_train[2].numpy()"
   ]
  },
  {
   "cell_type": "code",
   "execution_count": 15,
   "metadata": {},
   "outputs": [
    {
     "data": {
      "text/plain": [
       "array([[ 68.45853  ,  -8.730311 , -31.365671 , ...,   4.843421 ,\n",
       "         20.132097 , -17.263208 ],\n",
       "       [ 67.08611  ,  -1.9582493,  -1.1213299, ...,  -5.0454655,\n",
       "        -17.204418 , -32.76073  ],\n",
       "       [ 74.0644   , -13.225058 , -21.110668 , ...,  -8.67979  ,\n",
       "        -16.61049  , -16.836916 ],\n",
       "       ...,\n",
       "       [ 76.175125 ,   4.0349603, -24.262367 , ...,  -3.176486 ,\n",
       "        -10.253227 ,  -3.1574678],\n",
       "       [ 63.21377  ,  -4.3379726,  -6.844071 , ...,  36.45512  ,\n",
       "          2.5168054, -12.495918 ],\n",
       "       [ 66.55072  ,  -8.971389 ,  17.160826 , ...,  14.640405 ,\n",
       "         16.61913  ,   9.466786 ]], dtype=float32)"
      ]
     },
     "execution_count": 15,
     "metadata": {},
     "output_type": "execute_result"
    }
   ],
   "source": [
    "X_train[:10].numpy()"
   ]
  },
  {
   "cell_type": "markdown",
   "metadata": {},
   "source": [
    "# Label mappings "
   ]
  },
  {
   "cell_type": "code",
   "execution_count": 16,
   "metadata": {},
   "outputs": [
    {
     "data": {
      "text/plain": [
       "{'Blues',\n",
       " 'Brass & Military',\n",
       " \"Children's\",\n",
       " 'Classical',\n",
       " 'Electronic',\n",
       " 'Folk, World, & Country',\n",
       " 'Funk / Soul',\n",
       " 'Hip Hop',\n",
       " 'Jazz',\n",
       " 'Latin',\n",
       " 'Non-Music',\n",
       " 'Pop',\n",
       " 'Reggae',\n",
       " 'Rock',\n",
       " 'Stage & Screen'}"
      ]
     },
     "execution_count": 16,
     "metadata": {},
     "output_type": "execute_result"
    }
   ],
   "source": [
    "# taken from https://github.com/palonso/MAEST\n",
    "discogs_labels_full = [\n",
    "    \"Blues---Boogie Woogie\",\n",
    "    \"Blues---Chicago Blues\",\n",
    "    \"Blues---Country Blues\",\n",
    "    \"Blues---Delta Blues\",\n",
    "    \"Blues---Electric Blues\",\n",
    "    \"Blues---Harmonica Blues\",\n",
    "    \"Blues---Jump Blues\",\n",
    "    \"Blues---Louisiana Blues\",\n",
    "    \"Blues---Modern Electric Blues\",\n",
    "    \"Blues---Piano Blues\",\n",
    "    \"Blues---Rhythm & Blues\",\n",
    "    \"Blues---Texas Blues\",\n",
    "    \"Brass & Military---Brass Band\",\n",
    "    \"Brass & Military---Marches\",\n",
    "    \"Brass & Military---Military\",\n",
    "    \"Children's---Educational\",\n",
    "    \"Children's---Nursery Rhymes\",\n",
    "    \"Children's---Story\",\n",
    "    \"Classical---Baroque\",\n",
    "    \"Classical---Choral\",\n",
    "    \"Classical---Classical\",\n",
    "    \"Classical---Contemporary\",\n",
    "    \"Classical---Impressionist\",\n",
    "    \"Classical---Medieval\",\n",
    "    \"Classical---Modern\",\n",
    "    \"Classical---Neo-Classical\",\n",
    "    \"Classical---Neo-Romantic\",\n",
    "    \"Classical---Opera\",\n",
    "    \"Classical---Post-Modern\",\n",
    "    \"Classical---Renaissance\",\n",
    "    \"Classical---Romantic\",\n",
    "    \"Electronic---Abstract\",\n",
    "    \"Electronic---Acid\",\n",
    "    \"Electronic---Acid House\",\n",
    "    \"Electronic---Acid Jazz\",\n",
    "    \"Electronic---Ambient\",\n",
    "    \"Electronic---Bassline\",\n",
    "    \"Electronic---Beatdown\",\n",
    "    \"Electronic---Berlin-School\",\n",
    "    \"Electronic---Big Beat\",\n",
    "    \"Electronic---Bleep\",\n",
    "    \"Electronic---Breakbeat\",\n",
    "    \"Electronic---Breakcore\",\n",
    "    \"Electronic---Breaks\",\n",
    "    \"Electronic---Broken Beat\",\n",
    "    \"Electronic---Chillwave\",\n",
    "    \"Electronic---Chiptune\",\n",
    "    \"Electronic---Dance-pop\",\n",
    "    \"Electronic---Dark Ambient\",\n",
    "    \"Electronic---Darkwave\",\n",
    "    \"Electronic---Deep House\",\n",
    "    \"Electronic---Deep Techno\",\n",
    "    \"Electronic---Disco\",\n",
    "    \"Electronic---Disco Polo\",\n",
    "    \"Electronic---Donk\",\n",
    "    \"Electronic---Downtempo\",\n",
    "    \"Electronic---Drone\",\n",
    "    \"Electronic---Drum n Bass\",\n",
    "    \"Electronic---Dub\",\n",
    "    \"Electronic---Dub Techno\",\n",
    "    \"Electronic---Dubstep\",\n",
    "    \"Electronic---Dungeon Synth\",\n",
    "    \"Electronic---EBM\",\n",
    "    \"Electronic---Electro\",\n",
    "    \"Electronic---Electro House\",\n",
    "    \"Electronic---Electroclash\",\n",
    "    \"Electronic---Euro House\",\n",
    "    \"Electronic---Euro-Disco\",\n",
    "    \"Electronic---Eurobeat\",\n",
    "    \"Electronic---Eurodance\",\n",
    "    \"Electronic---Experimental\",\n",
    "    \"Electronic---Freestyle\",\n",
    "    \"Electronic---Future Jazz\",\n",
    "    \"Electronic---Gabber\",\n",
    "    \"Electronic---Garage House\",\n",
    "    \"Electronic---Ghetto\",\n",
    "    \"Electronic---Ghetto House\",\n",
    "    \"Electronic---Glitch\",\n",
    "    \"Electronic---Goa Trance\",\n",
    "    \"Electronic---Grime\",\n",
    "    \"Electronic---Halftime\",\n",
    "    \"Electronic---Hands Up\",\n",
    "    \"Electronic---Happy Hardcore\",\n",
    "    \"Electronic---Hard House\",\n",
    "    \"Electronic---Hard Techno\",\n",
    "    \"Electronic---Hard Trance\",\n",
    "    \"Electronic---Hardcore\",\n",
    "    \"Electronic---Hardstyle\",\n",
    "    \"Electronic---Hi NRG\",\n",
    "    \"Electronic---Hip Hop\",\n",
    "    \"Electronic---Hip-House\",\n",
    "    \"Electronic---House\",\n",
    "    \"Electronic---IDM\",\n",
    "    \"Electronic---Illbient\",\n",
    "    \"Electronic---Industrial\",\n",
    "    \"Electronic---Italo House\",\n",
    "    \"Electronic---Italo-Disco\",\n",
    "    \"Electronic---Italodance\",\n",
    "    \"Electronic---Jazzdance\",\n",
    "    \"Electronic---Juke\",\n",
    "    \"Electronic---Jumpstyle\",\n",
    "    \"Electronic---Jungle\",\n",
    "    \"Electronic---Latin\",\n",
    "    \"Electronic---Leftfield\",\n",
    "    \"Electronic---Makina\",\n",
    "    \"Electronic---Minimal\",\n",
    "    \"Electronic---Minimal Techno\",\n",
    "    \"Electronic---Modern Classical\",\n",
    "    \"Electronic---Musique Concr\\u00e8te\",\n",
    "    \"Electronic---Neofolk\",\n",
    "    \"Electronic---New Age\",\n",
    "    \"Electronic---New Beat\",\n",
    "    \"Electronic---New Wave\",\n",
    "    \"Electronic---Noise\",\n",
    "    \"Electronic---Nu-Disco\",\n",
    "    \"Electronic---Power Electronics\",\n",
    "    \"Electronic---Progressive Breaks\",\n",
    "    \"Electronic---Progressive House\",\n",
    "    \"Electronic---Progressive Trance\",\n",
    "    \"Electronic---Psy-Trance\",\n",
    "    \"Electronic---Rhythmic Noise\",\n",
    "    \"Electronic---Schranz\",\n",
    "    \"Electronic---Sound Collage\",\n",
    "    \"Electronic---Speed Garage\",\n",
    "    \"Electronic---Speedcore\",\n",
    "    \"Electronic---Synth-pop\",\n",
    "    \"Electronic---Synthwave\",\n",
    "    \"Electronic---Tech House\",\n",
    "    \"Electronic---Tech Trance\",\n",
    "    \"Electronic---Techno\",\n",
    "    \"Electronic---Trance\",\n",
    "    \"Electronic---Tribal\",\n",
    "    \"Electronic---Tribal House\",\n",
    "    \"Electronic---Trip Hop\",\n",
    "    \"Electronic---Tropical House\",\n",
    "    \"Electronic---UK Garage\",\n",
    "    \"Electronic---Vaporwave\",\n",
    "    \"Folk, World, & Country---African\",\n",
    "    \"Folk, World, & Country---Bluegrass\",\n",
    "    \"Folk, World, & Country---Cajun\",\n",
    "    \"Folk, World, & Country---Canzone Napoletana\",\n",
    "    \"Folk, World, & Country---Catalan Music\",\n",
    "    \"Folk, World, & Country---Celtic\",\n",
    "    \"Folk, World, & Country---Country\",\n",
    "    \"Folk, World, & Country---Fado\",\n",
    "    \"Folk, World, & Country---Flamenco\",\n",
    "    \"Folk, World, & Country---Folk\",\n",
    "    \"Folk, World, & Country---Gospel\",\n",
    "    \"Folk, World, & Country---Highlife\",\n",
    "    \"Folk, World, & Country---Hillbilly\",\n",
    "    \"Folk, World, & Country---Hindustani\",\n",
    "    \"Folk, World, & Country---Honky Tonk\",\n",
    "    \"Folk, World, & Country---Indian Classical\",\n",
    "    \"Folk, World, & Country---La\\u00efk\\u00f3\",\n",
    "    \"Folk, World, & Country---Nordic\",\n",
    "    \"Folk, World, & Country---Pacific\",\n",
    "    \"Folk, World, & Country---Polka\",\n",
    "    \"Folk, World, & Country---Ra\\u00ef\",\n",
    "    \"Folk, World, & Country---Romani\",\n",
    "    \"Folk, World, & Country---Soukous\",\n",
    "    \"Folk, World, & Country---S\\u00e9ga\",\n",
    "    \"Folk, World, & Country---Volksmusik\",\n",
    "    \"Folk, World, & Country---Zouk\",\n",
    "    \"Folk, World, & Country---\\u00c9ntekhno\",\n",
    "    \"Funk / Soul---Afrobeat\",\n",
    "    \"Funk / Soul---Boogie\",\n",
    "    \"Funk / Soul---Contemporary R&B\",\n",
    "    \"Funk / Soul---Disco\",\n",
    "    \"Funk / Soul---Free Funk\",\n",
    "    \"Funk / Soul---Funk\",\n",
    "    \"Funk / Soul---Gospel\",\n",
    "    \"Funk / Soul---Neo Soul\",\n",
    "    \"Funk / Soul---New Jack Swing\",\n",
    "    \"Funk / Soul---P.Funk\",\n",
    "    \"Funk / Soul---Psychedelic\",\n",
    "    \"Funk / Soul---Rhythm & Blues\",\n",
    "    \"Funk / Soul---Soul\",\n",
    "    \"Funk / Soul---Swingbeat\",\n",
    "    \"Funk / Soul---UK Street Soul\",\n",
    "    \"Hip Hop---Bass Music\",\n",
    "    \"Hip Hop---Boom Bap\",\n",
    "    \"Hip Hop---Bounce\",\n",
    "    \"Hip Hop---Britcore\",\n",
    "    \"Hip Hop---Cloud Rap\",\n",
    "    \"Hip Hop---Conscious\",\n",
    "    \"Hip Hop---Crunk\",\n",
    "    \"Hip Hop---Cut-up/DJ\",\n",
    "    \"Hip Hop---DJ Battle Tool\",\n",
    "    \"Hip Hop---Electro\",\n",
    "    \"Hip Hop---G-Funk\",\n",
    "    \"Hip Hop---Gangsta\",\n",
    "    \"Hip Hop---Grime\",\n",
    "    \"Hip Hop---Hardcore Hip-Hop\",\n",
    "    \"Hip Hop---Horrorcore\",\n",
    "    \"Hip Hop---Instrumental\",\n",
    "    \"Hip Hop---Jazzy Hip-Hop\",\n",
    "    \"Hip Hop---Miami Bass\",\n",
    "    \"Hip Hop---Pop Rap\",\n",
    "    \"Hip Hop---Ragga HipHop\",\n",
    "    \"Hip Hop---RnB/Swing\",\n",
    "    \"Hip Hop---Screw\",\n",
    "    \"Hip Hop---Thug Rap\",\n",
    "    \"Hip Hop---Trap\",\n",
    "    \"Hip Hop---Trip Hop\",\n",
    "    \"Hip Hop---Turntablism\",\n",
    "    \"Jazz---Afro-Cuban Jazz\",\n",
    "    \"Jazz---Afrobeat\",\n",
    "    \"Jazz---Avant-garde Jazz\",\n",
    "    \"Jazz---Big Band\",\n",
    "    \"Jazz---Bop\",\n",
    "    \"Jazz---Bossa Nova\",\n",
    "    \"Jazz---Contemporary Jazz\",\n",
    "    \"Jazz---Cool Jazz\",\n",
    "    \"Jazz---Dixieland\",\n",
    "    \"Jazz---Easy Listening\",\n",
    "    \"Jazz---Free Improvisation\",\n",
    "    \"Jazz---Free Jazz\",\n",
    "    \"Jazz---Fusion\",\n",
    "    \"Jazz---Gypsy Jazz\",\n",
    "    \"Jazz---Hard Bop\",\n",
    "    \"Jazz---Jazz-Funk\",\n",
    "    \"Jazz---Jazz-Rock\",\n",
    "    \"Jazz---Latin Jazz\",\n",
    "    \"Jazz---Modal\",\n",
    "    \"Jazz---Post Bop\",\n",
    "    \"Jazz---Ragtime\",\n",
    "    \"Jazz---Smooth Jazz\",\n",
    "    \"Jazz---Soul-Jazz\",\n",
    "    \"Jazz---Space-Age\",\n",
    "    \"Jazz---Swing\",\n",
    "    \"Latin---Afro-Cuban\",\n",
    "    \"Latin---Bai\\u00e3o\",\n",
    "    \"Latin---Batucada\",\n",
    "    \"Latin---Beguine\",\n",
    "    \"Latin---Bolero\",\n",
    "    \"Latin---Boogaloo\",\n",
    "    \"Latin---Bossanova\",\n",
    "    \"Latin---Cha-Cha\",\n",
    "    \"Latin---Charanga\",\n",
    "    \"Latin---Compas\",\n",
    "    \"Latin---Cubano\",\n",
    "    \"Latin---Cumbia\",\n",
    "    \"Latin---Descarga\",\n",
    "    \"Latin---Forr\\u00f3\",\n",
    "    \"Latin---Guaguanc\\u00f3\",\n",
    "    \"Latin---Guajira\",\n",
    "    \"Latin---Guaracha\",\n",
    "    \"Latin---MPB\",\n",
    "    \"Latin---Mambo\",\n",
    "    \"Latin---Mariachi\",\n",
    "    \"Latin---Merengue\",\n",
    "    \"Latin---Norte\\u00f1o\",\n",
    "    \"Latin---Nueva Cancion\",\n",
    "    \"Latin---Pachanga\",\n",
    "    \"Latin---Porro\",\n",
    "    \"Latin---Ranchera\",\n",
    "    \"Latin---Reggaeton\",\n",
    "    \"Latin---Rumba\",\n",
    "    \"Latin---Salsa\",\n",
    "    \"Latin---Samba\",\n",
    "    \"Latin---Son\",\n",
    "    \"Latin---Son Montuno\",\n",
    "    \"Latin---Tango\",\n",
    "    \"Latin---Tejano\",\n",
    "    \"Latin---Vallenato\",\n",
    "    \"Non-Music---Audiobook\",\n",
    "    \"Non-Music---Comedy\",\n",
    "    \"Non-Music---Dialogue\",\n",
    "    \"Non-Music---Education\",\n",
    "    \"Non-Music---Field Recording\",\n",
    "    \"Non-Music---Interview\",\n",
    "    \"Non-Music---Monolog\",\n",
    "    \"Non-Music---Poetry\",\n",
    "    \"Non-Music---Political\",\n",
    "    \"Non-Music---Promotional\",\n",
    "    \"Non-Music---Radioplay\",\n",
    "    \"Non-Music---Religious\",\n",
    "    \"Non-Music---Spoken Word\",\n",
    "    \"Pop---Ballad\",\n",
    "    \"Pop---Bollywood\",\n",
    "    \"Pop---Bubblegum\",\n",
    "    \"Pop---Chanson\",\n",
    "    \"Pop---City Pop\",\n",
    "    \"Pop---Europop\",\n",
    "    \"Pop---Indie Pop\",\n",
    "    \"Pop---J-pop\",\n",
    "    \"Pop---K-pop\",\n",
    "    \"Pop---Kay\\u014dkyoku\",\n",
    "    \"Pop---Light Music\",\n",
    "    \"Pop---Music Hall\",\n",
    "    \"Pop---Novelty\",\n",
    "    \"Pop---Parody\",\n",
    "    \"Pop---Schlager\",\n",
    "    \"Pop---Vocal\",\n",
    "    \"Reggae---Calypso\",\n",
    "    \"Reggae---Dancehall\",\n",
    "    \"Reggae---Dub\",\n",
    "    \"Reggae---Lovers Rock\",\n",
    "    \"Reggae---Ragga\",\n",
    "    \"Reggae---Reggae\",\n",
    "    \"Reggae---Reggae-Pop\",\n",
    "    \"Reggae---Rocksteady\",\n",
    "    \"Reggae---Roots Reggae\",\n",
    "    \"Reggae---Ska\",\n",
    "    \"Reggae---Soca\",\n",
    "    \"Rock---AOR\",\n",
    "    \"Rock---Acid Rock\",\n",
    "    \"Rock---Acoustic\",\n",
    "    \"Rock---Alternative Rock\",\n",
    "    \"Rock---Arena Rock\",\n",
    "    \"Rock---Art Rock\",\n",
    "    \"Rock---Atmospheric Black Metal\",\n",
    "    \"Rock---Avantgarde\",\n",
    "    \"Rock---Beat\",\n",
    "    \"Rock---Black Metal\",\n",
    "    \"Rock---Blues Rock\",\n",
    "    \"Rock---Brit Pop\",\n",
    "    \"Rock---Classic Rock\",\n",
    "    \"Rock---Coldwave\",\n",
    "    \"Rock---Country Rock\",\n",
    "    \"Rock---Crust\",\n",
    "    \"Rock---Death Metal\",\n",
    "    \"Rock---Deathcore\",\n",
    "    \"Rock---Deathrock\",\n",
    "    \"Rock---Depressive Black Metal\",\n",
    "    \"Rock---Doo Wop\",\n",
    "    \"Rock---Doom Metal\",\n",
    "    \"Rock---Dream Pop\",\n",
    "    \"Rock---Emo\",\n",
    "    \"Rock---Ethereal\",\n",
    "    \"Rock---Experimental\",\n",
    "    \"Rock---Folk Metal\",\n",
    "    \"Rock---Folk Rock\",\n",
    "    \"Rock---Funeral Doom Metal\",\n",
    "    \"Rock---Funk Metal\",\n",
    "    \"Rock---Garage Rock\",\n",
    "    \"Rock---Glam\",\n",
    "    \"Rock---Goregrind\",\n",
    "    \"Rock---Goth Rock\",\n",
    "    \"Rock---Gothic Metal\",\n",
    "    \"Rock---Grindcore\",\n",
    "    \"Rock---Grunge\",\n",
    "    \"Rock---Hard Rock\",\n",
    "    \"Rock---Hardcore\",\n",
    "    \"Rock---Heavy Metal\",\n",
    "    \"Rock---Indie Rock\",\n",
    "    \"Rock---Industrial\",\n",
    "    \"Rock---Krautrock\",\n",
    "    \"Rock---Lo-Fi\",\n",
    "    \"Rock---Lounge\",\n",
    "    \"Rock---Math Rock\",\n",
    "    \"Rock---Melodic Death Metal\",\n",
    "    \"Rock---Melodic Hardcore\",\n",
    "    \"Rock---Metalcore\",\n",
    "    \"Rock---Mod\",\n",
    "    \"Rock---Neofolk\",\n",
    "    \"Rock---New Wave\",\n",
    "    \"Rock---No Wave\",\n",
    "    \"Rock---Noise\",\n",
    "    \"Rock---Noisecore\",\n",
    "    \"Rock---Nu Metal\",\n",
    "    \"Rock---Oi\",\n",
    "    \"Rock---Parody\",\n",
    "    \"Rock---Pop Punk\",\n",
    "    \"Rock---Pop Rock\",\n",
    "    \"Rock---Pornogrind\",\n",
    "    \"Rock---Post Rock\",\n",
    "    \"Rock---Post-Hardcore\",\n",
    "    \"Rock---Post-Metal\",\n",
    "    \"Rock---Post-Punk\",\n",
    "    \"Rock---Power Metal\",\n",
    "    \"Rock---Power Pop\",\n",
    "    \"Rock---Power Violence\",\n",
    "    \"Rock---Prog Rock\",\n",
    "    \"Rock---Progressive Metal\",\n",
    "    \"Rock---Psychedelic Rock\",\n",
    "    \"Rock---Psychobilly\",\n",
    "    \"Rock---Pub Rock\",\n",
    "    \"Rock---Punk\",\n",
    "    \"Rock---Rock & Roll\",\n",
    "    \"Rock---Rockabilly\",\n",
    "    \"Rock---Shoegaze\",\n",
    "    \"Rock---Ska\",\n",
    "    \"Rock---Sludge Metal\",\n",
    "    \"Rock---Soft Rock\",\n",
    "    \"Rock---Southern Rock\",\n",
    "    \"Rock---Space Rock\",\n",
    "    \"Rock---Speed Metal\",\n",
    "    \"Rock---Stoner Rock\",\n",
    "    \"Rock---Surf\",\n",
    "    \"Rock---Symphonic Rock\",\n",
    "    \"Rock---Technical Death Metal\",\n",
    "    \"Rock---Thrash\",\n",
    "    \"Rock---Twist\",\n",
    "    \"Rock---Viking Metal\",\n",
    "    \"Rock---Y\\u00e9-Y\\u00e9\",\n",
    "    \"Stage & Screen---Musical\",\n",
    "    \"Stage & Screen---Score\",\n",
    "    \"Stage & Screen---Soundtrack\",\n",
    "    \"Stage & Screen---Theme\"\n",
    "]\n",
    "\n",
    "def get_tier_1_labels(labels, sep=\"---\"):\n",
    "    return set([\n",
    "        label.split(sep)[0]\n",
    "        for label in labels\n",
    "    ])\n",
    "\n",
    "discogs_tier_1_labels = get_tier_1_labels(discogs_labels_full)\n",
    "discogs_tier_1_labels"
   ]
  },
  {
   "cell_type": "code",
   "execution_count": 37,
   "metadata": {},
   "outputs": [
    {
     "data": {
      "text/plain": [
       "(set(), set())"
      ]
     },
     "execution_count": 37,
     "metadata": {},
     "output_type": "execute_result"
    }
   ],
   "source": [
    "# manually build mapping\n",
    "gtzan_to_discogs = {\n",
    "    \"blues\": \"Blues\",\n",
    "    \"classical\": \"Classical\",\n",
    "    \"country\": \"Folk, World, & Country\",\n",
    "    \"disco\": \"Funk / Soul\",\n",
    "    \"hiphop\": \"Hip Hop\",\n",
    "    \"jazz\": \"Jazz\",\n",
    "    \"metal\": \"Rock\", # Metal is a subgenre of Rock\n",
    "    \"pop\": \"Pop\",\n",
    "    \"reggae\": \"Reggae\",\n",
    "    \"rock\": \"Rock\"\n",
    "}\n",
    "\n",
    "discogs_to_gtzan = {v: k for k, v in gtzan_to_discogs.items()}\n",
    "\n",
    "gtzan_labels = list(gtzan_to_discogs.keys())\n",
    "\n",
    "set(labels) - set(gtzan_to_discogs), set(gtzan_to_discogs) - set(labels)"
   ]
  },
  {
   "cell_type": "markdown",
   "metadata": {},
   "source": [
    "# Fine-tune model"
   ]
  },
  {
   "cell_type": "code",
   "execution_count": 18,
   "metadata": {},
   "outputs": [
    {
     "data": {
      "text/plain": [
       "torch.Size([999, 2986, 13])"
      ]
     },
     "execution_count": 18,
     "metadata": {},
     "output_type": "execute_result"
    }
   ],
   "source": [
    "mfcc_tensor.shape"
   ]
  },
  {
   "cell_type": "code",
   "execution_count": 19,
   "metadata": {},
   "outputs": [
    {
     "data": {
      "text/plain": [
       "torch.Size([719, 2986, 13])"
      ]
     },
     "execution_count": 19,
     "metadata": {},
     "output_type": "execute_result"
    }
   ],
   "source": [
    "X_train.reshape(-1, 2986, 13).shape"
   ]
  },
  {
   "cell_type": "code",
   "execution_count": 20,
   "metadata": {},
   "outputs": [
    {
     "data": {
      "text/plain": [
       "(2986, 13)"
      ]
     },
     "execution_count": 20,
     "metadata": {},
     "output_type": "execute_result"
    }
   ],
   "source": [
    "batch_2d = X_train.reshape(-1, 2986, 13)[:100].numpy()\n",
    "batch_2d[0].shape"
   ]
  },
  {
   "cell_type": "code",
   "execution_count": 21,
   "metadata": {},
   "outputs": [],
   "source": [
    "# pipe(batch_2d[0])"
   ]
  },
  {
   "cell_type": "code",
   "execution_count": 23,
   "metadata": {},
   "outputs": [
    {
     "data": {
      "text/plain": [
       "[{'score': 0.353606641292572, 'label': 'Electronic---Noise'},\n",
       " {'score': 0.04757178947329521, 'label': 'Electronic---Power Electronics'},\n",
       " {'score': 0.042233750224113464, 'label': 'Electronic---Experimental'},\n",
       " {'score': 0.03940293937921524, 'label': 'Rock---Noise'},\n",
       " {'score': 0.03595265746116638, 'label': 'Electronic---Industrial'}]"
      ]
     },
     "execution_count": 23,
     "metadata": {},
     "output_type": "execute_result"
    }
   ],
   "source": [
    "pipe(X_train[0].numpy())"
   ]
  },
  {
   "cell_type": "code",
   "execution_count": 26,
   "metadata": {},
   "outputs": [
    {
     "data": {
      "text/plain": [
       "ASTForAudioClassification(\n",
       "  (audio_spectrogram_transformer): ASTModel(\n",
       "    (embeddings): ASTEmbeddings(\n",
       "      (patch_embeddings): ASTPatchEmbeddings(\n",
       "        (projection): Conv2d(1, 768, kernel_size=(16, 16), stride=(10, 10))\n",
       "      )\n",
       "      (dropout): Dropout(p=0.0, inplace=False)\n",
       "    )\n",
       "    (encoder): ASTEncoder(\n",
       "      (layer): ModuleList(\n",
       "        (0-11): 12 x ASTLayer(\n",
       "          (attention): ASTAttention(\n",
       "            (attention): ASTSelfAttention(\n",
       "              (query): Linear(in_features=768, out_features=768, bias=True)\n",
       "              (key): Linear(in_features=768, out_features=768, bias=True)\n",
       "              (value): Linear(in_features=768, out_features=768, bias=True)\n",
       "              (dropout): Dropout(p=0.0, inplace=False)\n",
       "            )\n",
       "            (output): ASTSelfOutput(\n",
       "              (dense): Linear(in_features=768, out_features=768, bias=True)\n",
       "              (dropout): Dropout(p=0.0, inplace=False)\n",
       "            )\n",
       "          )\n",
       "          (intermediate): ASTIntermediate(\n",
       "            (dense): Linear(in_features=768, out_features=3072, bias=True)\n",
       "            (intermediate_act_fn): GELUActivation()\n",
       "          )\n",
       "          (output): ASTOutput(\n",
       "            (dense): Linear(in_features=3072, out_features=768, bias=True)\n",
       "            (dropout): Dropout(p=0.0, inplace=False)\n",
       "          )\n",
       "          (layernorm_before): LayerNorm((768,), eps=1e-06, elementwise_affine=True)\n",
       "          (layernorm_after): LayerNorm((768,), eps=1e-06, elementwise_affine=True)\n",
       "        )\n",
       "      )\n",
       "    )\n",
       "    (layernorm): LayerNorm((768,), eps=1e-06, elementwise_affine=True)\n",
       "  )\n",
       "  (classifier): ASTMLPHead(\n",
       "    (layernorm): LayerNorm((768,), eps=1e-06, elementwise_affine=True)\n",
       "    (dense): Linear(in_features=768, out_features=400, bias=True)\n",
       "  )\n",
       ")"
      ]
     },
     "execution_count": 26,
     "metadata": {},
     "output_type": "execute_result"
    }
   ],
   "source": [
    "pipe.model"
   ]
  },
  {
   "cell_type": "code",
   "execution_count": 49,
   "metadata": {},
   "outputs": [],
   "source": [
    "def output_to_label(output):\n",
    "    \"\"\"\n",
    "    Output from pipe is:\n",
    "    [{'score': 0.353606641292572, 'label': 'Electronic---Noise'}, {'score': 0.04757178947329521, 'label': 'Electronic---Power Electronics'}, {'score': 0.042233750224113464, 'label': 'Electronic---Experimental'}, {'score': 0.03940293937921524, 'label': 'Rock---Noise'}, {'score': 0.03595265746116638, 'label': 'Electronic---Industrial'}]\n",
    "\n",
    "    Need to get it to:\n",
    "    \"\"\"\n",
    "    dlabel = output[0][\"label\"].split(\"---\")[0]\n",
    "    return discogs_to_gtzan.get(dlabel, \"NA\")\n"
   ]
  },
  {
   "cell_type": "code",
   "execution_count": 50,
   "metadata": {},
   "outputs": [],
   "source": [
    "label_to_idx = {label: idx for idx, label in enumerate(gtzan_labels)}\n",
    "idx_to_label = {idx: label for idx, label in enumerate(gtzan_labels)}\n",
    "\n",
    "label_to_idx[\"NA\"] = len(label_to_idx)\n",
    "idx_to_label[len(idx_to_label)] = \"NA\"\n"
   ]
  },
  {
   "cell_type": "code",
   "execution_count": 67,
   "metadata": {},
   "outputs": [],
   "source": [
    "def label_mapping(label):\n",
    "    return label_to_idx.get(label.split(\"---\")[0], label_to_idx[\"NA\"])"
   ]
  },
  {
   "cell_type": "code",
   "execution_count": 69,
   "metadata": {},
   "outputs": [
    {
     "ename": "IndexError",
     "evalue": "Target 10 is out of bounds.",
     "output_type": "error",
     "traceback": [
      "\u001b[0;31m---------------------------------------------------------------------------\u001b[0m",
      "\u001b[0;31mIndexError\u001b[0m                                Traceback (most recent call last)",
      "Cell \u001b[0;32mIn[69], line 35\u001b[0m\n\u001b[1;32m     31\u001b[0m probabilities \u001b[39m=\u001b[39m nn\u001b[39m.\u001b[39mfunctional\u001b[39m.\u001b[39msoftmax(scores, dim\u001b[39m=\u001b[39m\u001b[39m0\u001b[39m)\n\u001b[1;32m     33\u001b[0m \u001b[39m# CrossEntropyLoss expects raw scores, not probabilities\u001b[39;00m\n\u001b[1;32m     34\u001b[0m \u001b[39m# So, you can use negative log likelihood directly\u001b[39;00m\n\u001b[0;32m---> 35\u001b[0m loss \u001b[39m=\u001b[39m nn\u001b[39m.\u001b[39;49mfunctional\u001b[39m.\u001b[39;49mnll_loss(torch\u001b[39m.\u001b[39;49mlog(probabilities), labels)\n\u001b[1;32m     37\u001b[0m \u001b[39m# # Assuming y is a single label\u001b[39;00m\n\u001b[1;32m     38\u001b[0m \u001b[39m# y = \"cat1\"\u001b[39;00m\n\u001b[1;32m     39\u001b[0m \u001b[39m# y = torch.tensor([label_mapping[y]])\u001b[39;00m\n\u001b[1;32m     40\u001b[0m \n\u001b[1;32m     41\u001b[0m \u001b[39m# # Calculate loss\u001b[39;00m\n\u001b[1;32m     42\u001b[0m \u001b[39m# loss = nn.functional.cross_entropy(scores.view(1, -1), y)\u001b[39;00m\n\u001b[1;32m     44\u001b[0m loss\u001b[39m.\u001b[39mbackward()\n",
      "File \u001b[0;32m/opt/homebrew/Caskroom/miniconda/base/envs/music-genre/lib/python3.11/site-packages/torch/nn/functional.py:2729\u001b[0m, in \u001b[0;36mnll_loss\u001b[0;34m(input, target, weight, size_average, ignore_index, reduce, reduction)\u001b[0m\n\u001b[1;32m   2727\u001b[0m \u001b[39mif\u001b[39;00m size_average \u001b[39mis\u001b[39;00m \u001b[39mnot\u001b[39;00m \u001b[39mNone\u001b[39;00m \u001b[39mor\u001b[39;00m reduce \u001b[39mis\u001b[39;00m \u001b[39mnot\u001b[39;00m \u001b[39mNone\u001b[39;00m:\n\u001b[1;32m   2728\u001b[0m     reduction \u001b[39m=\u001b[39m _Reduction\u001b[39m.\u001b[39mlegacy_get_string(size_average, reduce)\n\u001b[0;32m-> 2729\u001b[0m \u001b[39mreturn\u001b[39;00m torch\u001b[39m.\u001b[39;49m_C\u001b[39m.\u001b[39;49m_nn\u001b[39m.\u001b[39;49mnll_loss_nd(\u001b[39minput\u001b[39;49m, target, weight, _Reduction\u001b[39m.\u001b[39;49mget_enum(reduction), ignore_index)\n",
      "\u001b[0;31mIndexError\u001b[0m: Target 10 is out of bounds."
     ]
    }
   ],
   "source": [
    "# model = pipe.model\n",
    "optimizer = optim.Adam(pipe.model.parameters(), lr=0.01)\n",
    "criterion = nn.BCELoss()\n",
    "\n",
    "batch_size = 50\n",
    "\n",
    "x_batch = X_train[:batch_size]\n",
    "y_batch = y_train[:batch_size]\n",
    "\n",
    "train_loss = []\n",
    "\n",
    "for epoch in range(3):\n",
    "    batch_loss = []\n",
    "    for x, y in zip(x_batch, y_batch):\n",
    "        optimizer.zero_grad()\n",
    "\n",
    "        output = pipe(x.numpy())\n",
    "        # predicted_label = output_to_label(output)\n",
    "        \n",
    "        # predicted_label = torch.tensor([label_to_idx[predicted_label]])\n",
    "        # y = torch.tensor([label_to_idx[y]])\n",
    "\n",
    "        # print(predicted_label.shape, y.shape)\n",
    "        # print(predicted_label, y)\n",
    "        \n",
    "        # loss = criterion(predicted_label, y)\n",
    "        scores = torch.tensor([out[\"score\"] for out in output])\n",
    "        labels = torch.tensor([label_mapping(out[\"label\"]) for out in output])\n",
    "\n",
    "        # Apply softmax to convert scores to probabilities\n",
    "        probabilities = nn.functional.softmax(scores, dim=0)\n",
    "\n",
    "        # CrossEntropyLoss expects raw scores, not probabilities\n",
    "        # So, you can use negative log likelihood directly\n",
    "        loss = nn.functional.nll_loss(torch.log(probabilities), labels)\n",
    "\n",
    "        # # Assuming y is a single label\n",
    "        # y = \"cat1\"\n",
    "        # y = torch.tensor([label_mapping[y]])\n",
    "\n",
    "        # # Calculate loss\n",
    "        # loss = nn.functional.cross_entropy(scores.view(1, -1), y)\n",
    "\n",
    "        loss.backward()\n",
    "        optimizer.step()\n",
    "        \n",
    "        batch_loss.append(loss.item())\n",
    "\n",
    "    train_loss.append(np.mean(batch_loss))\n",
    "    print(f\"Epoch {epoch} loss: {train_loss[-1]}\")\n",
    "    "
   ]
  },
  {
   "cell_type": "code",
   "execution_count": 32,
   "metadata": {},
   "outputs": [
    {
     "name": "stdout",
     "output_type": "stream",
     "text": [
      "classical\n"
     ]
    }
   ],
   "source": [
    "for y in y_batch:\n",
    "    print(y)\n",
    "    break"
   ]
  },
  {
   "cell_type": "code",
   "execution_count": null,
   "metadata": {},
   "outputs": [],
   "source": []
  }
 ],
 "metadata": {
  "kernelspec": {
   "display_name": "music-genre",
   "language": "python",
   "name": "python3"
  },
  "language_info": {
   "codemirror_mode": {
    "name": "ipython",
    "version": 3
   },
   "file_extension": ".py",
   "mimetype": "text/x-python",
   "name": "python",
   "nbconvert_exporter": "python",
   "pygments_lexer": "ipython3",
   "version": "3.11.5"
  },
  "orig_nbformat": 4
 },
 "nbformat": 4,
 "nbformat_minor": 2
}
