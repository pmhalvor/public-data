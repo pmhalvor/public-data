{
 "cells": [
  {
   "cell_type": "markdown",
   "metadata": {},
   "source": [
    "# Music genre classifier\n",
    "## Pretrained classifiers\n",
    "This notebook should be see as the third step in a series of notebooks aimed to build an ML audio classifier.\n",
    "\n",
    "We continue our journey of music classification by trainging more complex models, such as CNNs and RNNs.\n",
    "After this, we will see how our results compare against a pretrained model. \n",
    "If you missed our previous steps, you can find them here:\n",
    "\n",
    "- [preprocessing](https://github.com/pmhalvor/public-data/blob/master/notebooks/music-genre/preprocess.py)\n",
    "- [traditional classifiers](https://github.com/pmhalvor/public-data/blob/master/notebooks/music-genre/classifiers.py) (note: currently only on branch [add/classifiers](https://github.com/pmhalvor/public-data/blob/add/classifiers/notebooks/music-genre/classifiers.ipynb))\n",
    "\n",
    "\n",
    "## Goal\n",
    "Test open-source pretrained models on our dataset, and compare the results to our own models.\n",
    "\n",
    "## Dataset\n",
    "The dataset contains 1000 audio tracks each 30 seconds long. It contains 10 genres, each represented by 100 tracks. The tracks were all 22050Hz Mono 16-bit audio files in .wav format.\n",
    "In [preprocess.py](preprocess.py), we convert the .wav fiels to MFCC features, and store them as PyTorch tensors (`mfcc.pt`). Labels and file paths are stored as numpy-arrays. \n",
    "\n",
    "## Source\n",
    "https://www.kaggle.com/datasets/andradaolteanu/gtzan-dataset-music-genre-classification/ (accessed 2023-10-20)"
   ]
  },
  {
   "cell_type": "code",
   "execution_count": 1,
   "metadata": {},
   "outputs": [],
   "source": [
    "from functools import partial\n",
    "from sklearn.model_selection import train_test_split, GridSearchCV\n",
    "from sklearn.metrics import accuracy_score, confusion_matrix, classification_report, f1_score\n",
    "from skorch import NeuralNetClassifier\n",
    "from tqdm import tqdm\n",
    "\n",
    "import numpy as np\n",
    "import pandas as pd\n",
    "import plotly.express as px\n",
    "import plotly.graph_objects as go\n",
    "import torch\n",
    "import torch.nn as nn\n",
    "import torch.nn.functional as F\n",
    "import torch.optim as optim"
   ]
  },
  {
   "cell_type": "code",
   "execution_count": 2,
   "metadata": {},
   "outputs": [
    {
     "data": {
      "text/plain": [
       "[{'score': 0.07780482620000839, 'label': 'Non-Music---Field Recording'},\n",
       " {'score': 0.06735584884881973, 'label': 'Electronic---Noise'},\n",
       " {'score': 0.03958931937813759, 'label': 'Electronic---Experimental'},\n",
       " {'score': 0.0334211029112339, 'label': 'Electronic---Glitch'},\n",
       " {'score': 0.021081870421767235, 'label': 'Electronic---Abstract'}]"
      ]
     },
     "execution_count": 2,
     "metadata": {},
     "output_type": "execute_result"
    }
   ],
   "source": [
    "import numpy as np\n",
    "from transformers import pipeline\n",
    "\n",
    "# audio @16kHz\n",
    "audio = np.random.randn(30 * 16000)\n",
    "\n",
    "pipe = pipeline(\"audio-classification\", model=\"mtg-upf/discogs-maest-30s-pw-73e-ts\")\n",
    "pipe(audio)"
   ]
  },
  {
   "cell_type": "code",
   "execution_count": 4,
   "metadata": {},
   "outputs": [
    {
     "data": {
      "text/plain": [
       "[{'score': 0.1114688292145729, 'label': 'Electronic---Noise'},\n",
       " {'score': 0.087164506316185, 'label': 'Electronic---Experimental'},\n",
       " {'score': 0.058809712529182434, 'label': 'Non-Music---Field Recording'},\n",
       " {'score': 0.049318183213472366, 'label': 'Electronic---Glitch'},\n",
       " {'score': 0.042523324489593506, 'label': 'Electronic---Ambient'}]"
      ]
     },
     "execution_count": 4,
     "metadata": {},
     "output_type": "execute_result"
    }
   ],
   "source": [
    "pipe(np.random.rand(10000000))"
   ]
  },
  {
   "cell_type": "code",
   "execution_count": 5,
   "metadata": {},
   "outputs": [
    {
     "data": {
      "text/plain": [
       "[{'score': 0.021694157272577286, 'label': 'Electronic---House'},\n",
       " {'score': 0.013838262297213078, 'label': 'Electronic---Synth-pop'},\n",
       " {'score': 0.011855307966470718, 'label': 'Electronic---Experimental'},\n",
       " {'score': 0.01142813265323639, 'label': 'Folk, World, & Country---Folk'},\n",
       " {'score': 0.01138258259743452, 'label': 'Funk / Soul---Funk'}]"
      ]
     },
     "execution_count": 5,
     "metadata": {},
     "output_type": "execute_result"
    }
   ],
   "source": [
    "pipe(np.random.rand(10))\n"
   ]
  },
  {
   "cell_type": "code",
   "execution_count": 5,
   "metadata": {},
   "outputs": [
    {
     "data": {
      "text/plain": [
       "480000"
      ]
     },
     "execution_count": 5,
     "metadata": {},
     "output_type": "execute_result"
    }
   ],
   "source": [
    "\"\"\"\n",
    "MAEST is designed to accept data in different input formats:\n",
    "\n",
    "1D: 16kHz audio waveform is assumed.\n",
    "2D: mel-spectrogram is assumed (frequency, time).\n",
    "3D: batched mel-spectrogram (batch, frequency, time).\n",
    "4D: batched mel-spectrgroam plus singleton channel axis (batch, 1, frequency, time).\n",
    "\"\"\""
   ]
  },
  {
   "cell_type": "markdown",
   "metadata": {},
   "source": [
    "# Load data"
   ]
  },
  {
   "cell_type": "code",
   "execution_count": 7,
   "metadata": {},
   "outputs": [],
   "source": [
    "mfcc_tensor = torch.load(\"mfcc.pt\")\n",
    "covariance_tensor =  torch.load(\"covariance.pt\")\n",
    "file_paths = np.load(\"file_paths.npy\")\n",
    "labels = np.load(\"labels.npy\")"
   ]
  },
  {
   "cell_type": "code",
   "execution_count": 8,
   "metadata": {},
   "outputs": [
    {
     "data": {
      "text/plain": [
       "{'blues': 0,\n",
       " 'classical': 1,\n",
       " 'country': 2,\n",
       " 'disco': 3,\n",
       " 'hiphop': 4,\n",
       " 'jazz': 5,\n",
       " 'metal': 6,\n",
       " 'pop': 7,\n",
       " 'reggae': 8,\n",
       " 'rock': 9}"
      ]
     },
     "execution_count": 8,
     "metadata": {},
     "output_type": "execute_result"
    }
   ],
   "source": [
    "labels_to_idx = {label: idx for idx, label in enumerate(np.unique(labels))}\n",
    "idx_to_labels = {idx: label for idx, label in enumerate(np.unique(labels))}\n",
    "labels_to_idx"
   ]
  },
  {
   "cell_type": "markdown",
   "metadata": {},
   "source": [
    "# Train test split"
   ]
  },
  {
   "cell_type": "code",
   "execution_count": 10,
   "metadata": {},
   "outputs": [],
   "source": [
    "# Reshape the data into a 2D array (num_samples, num_features)\n",
    "num_samples, num_frames, num_mfcc = mfcc_tensor.shape\n",
    "mfcc_tensor_2d = np.reshape(mfcc_tensor, (num_samples, num_frames * num_mfcc))\n",
    "\n",
    "# Split the data into training and testing sets\n",
    "X_train, X_test, y_train, y_test = train_test_split(mfcc_tensor_2d, labels, test_size=0.2, random_state=42)\n",
    "\n",
    "# Get validation set\n",
    "X_train, X_val, y_train, y_val = train_test_split(X_train, y_train, test_size=0.1, random_state=42)"
   ]
  },
  {
   "cell_type": "code",
   "execution_count": 11,
   "metadata": {},
   "outputs": [
    {
     "data": {
      "text/plain": [
       "torch.Size([719, 38818])"
      ]
     },
     "execution_count": 11,
     "metadata": {},
     "output_type": "execute_result"
    }
   ],
   "source": [
    "X_train.shape"
   ]
  },
  {
   "cell_type": "code",
   "execution_count": 12,
   "metadata": {},
   "outputs": [
    {
     "data": {
      "text/plain": [
       "'classical'"
      ]
     },
     "execution_count": 12,
     "metadata": {},
     "output_type": "execute_result"
    }
   ],
   "source": [
    "y_train[0]"
   ]
  },
  {
   "cell_type": "code",
   "execution_count": 13,
   "metadata": {},
   "outputs": [
    {
     "data": {
      "text/plain": [
       "tensor([ 68.4585,  -8.7303, -31.3657,  ...,   4.8434,  20.1321, -17.2632])"
      ]
     },
     "execution_count": 13,
     "metadata": {},
     "output_type": "execute_result"
    }
   ],
   "source": [
    "X_train[0]"
   ]
  },
  {
   "cell_type": "code",
   "execution_count": 16,
   "metadata": {},
   "outputs": [
    {
     "data": {
      "text/plain": [
       "[{'score': 0.353606641292572, 'label': 'Electronic---Noise'},\n",
       " {'score': 0.04757178947329521, 'label': 'Electronic---Power Electronics'},\n",
       " {'score': 0.042233750224113464, 'label': 'Electronic---Experimental'},\n",
       " {'score': 0.03940293937921524, 'label': 'Rock---Noise'},\n",
       " {'score': 0.03595265746116638, 'label': 'Electronic---Industrial'}]"
      ]
     },
     "execution_count": 16,
     "metadata": {},
     "output_type": "execute_result"
    }
   ],
   "source": [
    "pipe(X_train[0].numpy())"
   ]
  },
  {
   "cell_type": "code",
   "execution_count": 20,
   "metadata": {},
   "outputs": [
    {
     "name": "stdout",
     "output_type": "stream",
     "text": [
      "[{'score': 0.353606641292572, 'label': 'Electronic---Noise'}, {'score': 0.04757178947329521, 'label': 'Electronic---Power Electronics'}, {'score': 0.042233750224113464, 'label': 'Electronic---Experimental'}, {'score': 0.03940293937921524, 'label': 'Rock---Noise'}, {'score': 0.03595265746116638, 'label': 'Electronic---Industrial'}]\n",
      "classical\n",
      "----------\n",
      "[{'score': 0.30069082975387573, 'label': 'Electronic---Noise'}, {'score': 0.045320652425289154, 'label': 'Rock---Noise'}, {'score': 0.04330591484904289, 'label': 'Electronic---Power Electronics'}, {'score': 0.038458213210105896, 'label': 'Electronic---Rhythmic Noise'}, {'score': 0.037081748247146606, 'label': 'Electronic---Experimental'}]\n",
      "blues\n",
      "----------\n",
      "[{'score': 0.3399991989135742, 'label': 'Electronic---Noise'}, {'score': 0.04738768935203552, 'label': 'Electronic---Power Electronics'}, {'score': 0.04102112725377083, 'label': 'Rock---Noise'}, {'score': 0.038403041660785675, 'label': 'Electronic---Experimental'}, {'score': 0.03184948489069939, 'label': 'Electronic---Rhythmic Noise'}]\n",
      "disco\n",
      "----------\n",
      "[{'score': 0.2971172332763672, 'label': 'Electronic---Noise'}, {'score': 0.05284711346030235, 'label': 'Electronic---Power Electronics'}, {'score': 0.04490352421998978, 'label': 'Electronic---Experimental'}, {'score': 0.03899359703063965, 'label': 'Electronic---Rhythmic Noise'}, {'score': 0.03329168260097504, 'label': 'Rock---Noise'}]\n",
      "pop\n",
      "----------\n",
      "[{'score': 0.2682130038738251, 'label': 'Electronic---Noise'}, {'score': 0.047495294362306595, 'label': 'Rock---Noise'}, {'score': 0.04680301994085312, 'label': 'Electronic---Rhythmic Noise'}, {'score': 0.0377768836915493, 'label': 'Electronic---Experimental'}, {'score': 0.03514918312430382, 'label': 'Electronic---Power Electronics'}]\n",
      "reggae\n",
      "----------\n",
      "[{'score': 0.3630811870098114, 'label': 'Electronic---Noise'}, {'score': 0.058671094477176666, 'label': 'Electronic---Power Electronics'}, {'score': 0.04180403798818588, 'label': 'Rock---Noise'}, {'score': 0.036948200315237045, 'label': 'Electronic---Experimental'}, {'score': 0.03313352167606354, 'label': 'Electronic---Rhythmic Noise'}]\n",
      "rock\n",
      "----------\n",
      "[{'score': 0.30114123225212097, 'label': 'Electronic---Noise'}, {'score': 0.04999115318059921, 'label': 'Electronic---Power Electronics'}, {'score': 0.04702392593026161, 'label': 'Rock---Noise'}, {'score': 0.04449932277202606, 'label': 'Electronic---Rhythmic Noise'}, {'score': 0.03592434152960777, 'label': 'Electronic---Experimental'}]\n",
      "reggae\n",
      "----------\n",
      "[{'score': 0.327604740858078, 'label': 'Electronic---Noise'}, {'score': 0.05507044494152069, 'label': 'Electronic---Power Electronics'}, {'score': 0.03970910236239433, 'label': 'Electronic---Experimental'}, {'score': 0.036303021013736725, 'label': 'Rock---Noise'}, {'score': 0.03556061536073685, 'label': 'Electronic---Industrial'}]\n",
      "jazz\n",
      "----------\n",
      "[{'score': 0.3414921462535858, 'label': 'Electronic---Noise'}, {'score': 0.049406252801418304, 'label': 'Electronic---Power Electronics'}, {'score': 0.046106770634651184, 'label': 'Rock---Noise'}, {'score': 0.03890962898731232, 'label': 'Electronic---Experimental'}, {'score': 0.036824312061071396, 'label': 'Electronic---Industrial'}]\n",
      "country\n",
      "----------\n",
      "[{'score': 0.2676883339881897, 'label': 'Electronic---Noise'}, {'score': 0.047796815633773804, 'label': 'Electronic---Rhythmic Noise'}, {'score': 0.04437699913978577, 'label': 'Electronic---Power Electronics'}, {'score': 0.04110417887568474, 'label': 'Electronic---Experimental'}, {'score': 0.03445286676287651, 'label': 'Rock---Noise'}]\n",
      "reggae\n",
      "----------\n"
     ]
    }
   ],
   "source": [
    "for x, y in zip(X_train[:10], y_train[:10]):\n",
    "    print(pipe(x.numpy()))\n",
    "    print(y)\n",
    "    print(\"-\"*10)"
   ]
  },
  {
   "cell_type": "code",
   "execution_count": 25,
   "metadata": {},
   "outputs": [
    {
     "data": {
      "text/plain": [
       "array([ 74.0644  , -13.225058, -21.110668, ...,  -8.67979 , -16.61049 ,\n",
       "       -16.836916], dtype=float32)"
      ]
     },
     "execution_count": 25,
     "metadata": {},
     "output_type": "execute_result"
    }
   ],
   "source": [
    "X_train[2].numpy()"
   ]
  },
  {
   "cell_type": "code",
   "execution_count": 19,
   "metadata": {},
   "outputs": [
    {
     "data": {
      "text/plain": [
       "array([[ 68.45853  ,  -8.730311 , -31.365671 , ...,   4.843421 ,\n",
       "         20.132097 , -17.263208 ],\n",
       "       [ 67.08611  ,  -1.9582493,  -1.1213299, ...,  -5.0454655,\n",
       "        -17.204418 , -32.76073  ],\n",
       "       [ 74.0644   , -13.225058 , -21.110668 , ...,  -8.67979  ,\n",
       "        -16.61049  , -16.836916 ],\n",
       "       ...,\n",
       "       [ 76.175125 ,   4.0349603, -24.262367 , ...,  -3.176486 ,\n",
       "        -10.253227 ,  -3.1574678],\n",
       "       [ 63.21377  ,  -4.3379726,  -6.844071 , ...,  36.45512  ,\n",
       "          2.5168054, -12.495918 ],\n",
       "       [ 66.55072  ,  -8.971389 ,  17.160826 , ...,  14.640405 ,\n",
       "         16.61913  ,   9.466786 ]], dtype=float32)"
      ]
     },
     "execution_count": 19,
     "metadata": {},
     "output_type": "execute_result"
    }
   ],
   "source": [
    "X_train[:10].numpy()"
   ]
  },
  {
   "cell_type": "code",
   "execution_count": 10,
   "metadata": {},
   "outputs": [
    {
     "data": {
      "text/plain": [
       "{'blues',\n",
       " 'classical',\n",
       " 'country',\n",
       " 'disco',\n",
       " 'hiphop',\n",
       " 'jazz',\n",
       " 'metal',\n",
       " 'pop',\n",
       " 'reggae',\n",
       " 'rock'}"
      ]
     },
     "execution_count": 10,
     "metadata": {},
     "output_type": "execute_result"
    }
   ],
   "source": [
    "discogs_labels_full = [\n",
    "    \"Blues---Boogie Woogie\",\n",
    "    \"Blues---Chicago Blues\",\n",
    "    \"Blues---Country Blues\",\n",
    "    \"Blues---Delta Blues\",\n",
    "    \"Blues---Electric Blues\",\n",
    "    \"Blues---Harmonica Blues\",\n",
    "    \"Blues---Jump Blues\",\n",
    "    \"Blues---Louisiana Blues\",\n",
    "    \"Blues---Modern Electric Blues\",\n",
    "    \"Blues---Piano Blues\",\n",
    "    \"Blues---Rhythm & Blues\",\n",
    "    \"Blues---Texas Blues\",\n",
    "    \"Brass & Military---Brass Band\",\n",
    "    \"Brass & Military---Marches\",\n",
    "    \"Brass & Military---Military\",\n",
    "    \"Children's---Educational\",\n",
    "    \"Children's---Nursery Rhymes\",\n",
    "    \"Children's---Story\",\n",
    "    \"Classical---Baroque\",\n",
    "    \"Classical---Choral\",\n",
    "    \"Classical---Classical\",\n",
    "    \"Classical---Contemporary\",\n",
    "    \"Classical---Impressionist\",\n",
    "    \"Classical---Medieval\",\n",
    "    \"Classical---Modern\",\n",
    "    \"Classical---Neo-Classical\",\n",
    "    \"Classical---Neo-Romantic\",\n",
    "    \"Classical---Opera\",\n",
    "    \"Classical---Post-Modern\",\n",
    "    \"Classical---Renaissance\",\n",
    "    \"Classical---Romantic\",\n",
    "    \"Electronic---Abstract\",\n",
    "    \"Electronic---Acid\",\n",
    "    \"Electronic---Acid House\",\n",
    "    \"Electronic---Acid Jazz\",\n",
    "    \"Electronic---Ambient\",\n",
    "    \"Electronic---Bassline\",\n",
    "    \"Electronic---Beatdown\",\n",
    "    \"Electronic---Berlin-School\",\n",
    "    \"Electronic---Big Beat\",\n",
    "    \"Electronic---Bleep\",\n",
    "    \"Electronic---Breakbeat\",\n",
    "    \"Electronic---Breakcore\",\n",
    "    \"Electronic---Breaks\",\n",
    "    \"Electronic---Broken Beat\",\n",
    "    \"Electronic---Chillwave\",\n",
    "    \"Electronic---Chiptune\",\n",
    "    \"Electronic---Dance-pop\",\n",
    "    \"Electronic---Dark Ambient\",\n",
    "    \"Electronic---Darkwave\",\n",
    "    \"Electronic---Deep House\",\n",
    "    \"Electronic---Deep Techno\",\n",
    "    \"Electronic---Disco\",\n",
    "    \"Electronic---Disco Polo\",\n",
    "    \"Electronic---Donk\",\n",
    "    \"Electronic---Downtempo\",\n",
    "    \"Electronic---Drone\",\n",
    "    \"Electronic---Drum n Bass\",\n",
    "    \"Electronic---Dub\",\n",
    "    \"Electronic---Dub Techno\",\n",
    "    \"Electronic---Dubstep\",\n",
    "    \"Electronic---Dungeon Synth\",\n",
    "    \"Electronic---EBM\",\n",
    "    \"Electronic---Electro\",\n",
    "    \"Electronic---Electro House\",\n",
    "    \"Electronic---Electroclash\",\n",
    "    \"Electronic---Euro House\",\n",
    "    \"Electronic---Euro-Disco\",\n",
    "    \"Electronic---Eurobeat\",\n",
    "    \"Electronic---Eurodance\",\n",
    "    \"Electronic---Experimental\",\n",
    "    \"Electronic---Freestyle\",\n",
    "    \"Electronic---Future Jazz\",\n",
    "    \"Electronic---Gabber\",\n",
    "    \"Electronic---Garage House\",\n",
    "    \"Electronic---Ghetto\",\n",
    "    \"Electronic---Ghetto House\",\n",
    "    \"Electronic---Glitch\",\n",
    "    \"Electronic---Goa Trance\",\n",
    "    \"Electronic---Grime\",\n",
    "    \"Electronic---Halftime\",\n",
    "    \"Electronic---Hands Up\",\n",
    "    \"Electronic---Happy Hardcore\",\n",
    "    \"Electronic---Hard House\",\n",
    "    \"Electronic---Hard Techno\",\n",
    "    \"Electronic---Hard Trance\",\n",
    "    \"Electronic---Hardcore\",\n",
    "    \"Electronic---Hardstyle\",\n",
    "    \"Electronic---Hi NRG\",\n",
    "    \"Electronic---Hip Hop\",\n",
    "    \"Electronic---Hip-House\",\n",
    "    \"Electronic---House\",\n",
    "    \"Electronic---IDM\",\n",
    "    \"Electronic---Illbient\",\n",
    "    \"Electronic---Industrial\",\n",
    "    \"Electronic---Italo House\",\n",
    "    \"Electronic---Italo-Disco\",\n",
    "    \"Electronic---Italodance\",\n",
    "    \"Electronic---Jazzdance\",\n",
    "    \"Electronic---Juke\",\n",
    "    \"Electronic---Jumpstyle\",\n",
    "    \"Electronic---Jungle\",\n",
    "    \"Electronic---Latin\",\n",
    "    \"Electronic---Leftfield\",\n",
    "    \"Electronic---Makina\",\n",
    "    \"Electronic---Minimal\",\n",
    "    \"Electronic---Minimal Techno\",\n",
    "    \"Electronic---Modern Classical\",\n",
    "    \"Electronic---Musique Concr\\u00e8te\",\n",
    "    \"Electronic---Neofolk\",\n",
    "    \"Electronic---New Age\",\n",
    "    \"Electronic---New Beat\",\n",
    "    \"Electronic---New Wave\",\n",
    "    \"Electronic---Noise\",\n",
    "    \"Electronic---Nu-Disco\",\n",
    "    \"Electronic---Power Electronics\",\n",
    "    \"Electronic---Progressive Breaks\",\n",
    "    \"Electronic---Progressive House\",\n",
    "    \"Electronic---Progressive Trance\",\n",
    "    \"Electronic---Psy-Trance\",\n",
    "    \"Electronic---Rhythmic Noise\",\n",
    "    \"Electronic---Schranz\",\n",
    "    \"Electronic---Sound Collage\",\n",
    "    \"Electronic---Speed Garage\",\n",
    "    \"Electronic---Speedcore\",\n",
    "    \"Electronic---Synth-pop\",\n",
    "    \"Electronic---Synthwave\",\n",
    "    \"Electronic---Tech House\",\n",
    "    \"Electronic---Tech Trance\",\n",
    "    \"Electronic---Techno\",\n",
    "    \"Electronic---Trance\",\n",
    "    \"Electronic---Tribal\",\n",
    "    \"Electronic---Tribal House\",\n",
    "    \"Electronic---Trip Hop\",\n",
    "    \"Electronic---Tropical House\",\n",
    "    \"Electronic---UK Garage\",\n",
    "    \"Electronic---Vaporwave\",\n",
    "    \"Folk, World, & Country---African\",\n",
    "    \"Folk, World, & Country---Bluegrass\",\n",
    "    \"Folk, World, & Country---Cajun\",\n",
    "    \"Folk, World, & Country---Canzone Napoletana\",\n",
    "    \"Folk, World, & Country---Catalan Music\",\n",
    "    \"Folk, World, & Country---Celtic\",\n",
    "    \"Folk, World, & Country---Country\",\n",
    "    \"Folk, World, & Country---Fado\",\n",
    "    \"Folk, World, & Country---Flamenco\",\n",
    "    \"Folk, World, & Country---Folk\",\n",
    "    \"Folk, World, & Country---Gospel\",\n",
    "    \"Folk, World, & Country---Highlife\",\n",
    "    \"Folk, World, & Country---Hillbilly\",\n",
    "    \"Folk, World, & Country---Hindustani\",\n",
    "    \"Folk, World, & Country---Honky Tonk\",\n",
    "    \"Folk, World, & Country---Indian Classical\",\n",
    "    \"Folk, World, & Country---La\\u00efk\\u00f3\",\n",
    "    \"Folk, World, & Country---Nordic\",\n",
    "    \"Folk, World, & Country---Pacific\",\n",
    "    \"Folk, World, & Country---Polka\",\n",
    "    \"Folk, World, & Country---Ra\\u00ef\",\n",
    "    \"Folk, World, & Country---Romani\",\n",
    "    \"Folk, World, & Country---Soukous\",\n",
    "    \"Folk, World, & Country---S\\u00e9ga\",\n",
    "    \"Folk, World, & Country---Volksmusik\",\n",
    "    \"Folk, World, & Country---Zouk\",\n",
    "    \"Folk, World, & Country---\\u00c9ntekhno\",\n",
    "    \"Funk / Soul---Afrobeat\",\n",
    "    \"Funk / Soul---Boogie\",\n",
    "    \"Funk / Soul---Contemporary R&B\",\n",
    "    \"Funk / Soul---Disco\",\n",
    "    \"Funk / Soul---Free Funk\",\n",
    "    \"Funk / Soul---Funk\",\n",
    "    \"Funk / Soul---Gospel\",\n",
    "    \"Funk / Soul---Neo Soul\",\n",
    "    \"Funk / Soul---New Jack Swing\",\n",
    "    \"Funk / Soul---P.Funk\",\n",
    "    \"Funk / Soul---Psychedelic\",\n",
    "    \"Funk / Soul---Rhythm & Blues\",\n",
    "    \"Funk / Soul---Soul\",\n",
    "    \"Funk / Soul---Swingbeat\",\n",
    "    \"Funk / Soul---UK Street Soul\",\n",
    "    \"Hip Hop---Bass Music\",\n",
    "    \"Hip Hop---Boom Bap\",\n",
    "    \"Hip Hop---Bounce\",\n",
    "    \"Hip Hop---Britcore\",\n",
    "    \"Hip Hop---Cloud Rap\",\n",
    "    \"Hip Hop---Conscious\",\n",
    "    \"Hip Hop---Crunk\",\n",
    "    \"Hip Hop---Cut-up/DJ\",\n",
    "    \"Hip Hop---DJ Battle Tool\",\n",
    "    \"Hip Hop---Electro\",\n",
    "    \"Hip Hop---G-Funk\",\n",
    "    \"Hip Hop---Gangsta\",\n",
    "    \"Hip Hop---Grime\",\n",
    "    \"Hip Hop---Hardcore Hip-Hop\",\n",
    "    \"Hip Hop---Horrorcore\",\n",
    "    \"Hip Hop---Instrumental\",\n",
    "    \"Hip Hop---Jazzy Hip-Hop\",\n",
    "    \"Hip Hop---Miami Bass\",\n",
    "    \"Hip Hop---Pop Rap\",\n",
    "    \"Hip Hop---Ragga HipHop\",\n",
    "    \"Hip Hop---RnB/Swing\",\n",
    "    \"Hip Hop---Screw\",\n",
    "    \"Hip Hop---Thug Rap\",\n",
    "    \"Hip Hop---Trap\",\n",
    "    \"Hip Hop---Trip Hop\",\n",
    "    \"Hip Hop---Turntablism\",\n",
    "    \"Jazz---Afro-Cuban Jazz\",\n",
    "    \"Jazz---Afrobeat\",\n",
    "    \"Jazz---Avant-garde Jazz\",\n",
    "    \"Jazz---Big Band\",\n",
    "    \"Jazz---Bop\",\n",
    "    \"Jazz---Bossa Nova\",\n",
    "    \"Jazz---Contemporary Jazz\",\n",
    "    \"Jazz---Cool Jazz\",\n",
    "    \"Jazz---Dixieland\",\n",
    "    \"Jazz---Easy Listening\",\n",
    "    \"Jazz---Free Improvisation\",\n",
    "    \"Jazz---Free Jazz\",\n",
    "    \"Jazz---Fusion\",\n",
    "    \"Jazz---Gypsy Jazz\",\n",
    "    \"Jazz---Hard Bop\",\n",
    "    \"Jazz---Jazz-Funk\",\n",
    "    \"Jazz---Jazz-Rock\",\n",
    "    \"Jazz---Latin Jazz\",\n",
    "    \"Jazz---Modal\",\n",
    "    \"Jazz---Post Bop\",\n",
    "    \"Jazz---Ragtime\",\n",
    "    \"Jazz---Smooth Jazz\",\n",
    "    \"Jazz---Soul-Jazz\",\n",
    "    \"Jazz---Space-Age\",\n",
    "    \"Jazz---Swing\",\n",
    "    \"Latin---Afro-Cuban\",\n",
    "    \"Latin---Bai\\u00e3o\",\n",
    "    \"Latin---Batucada\",\n",
    "    \"Latin---Beguine\",\n",
    "    \"Latin---Bolero\",\n",
    "    \"Latin---Boogaloo\",\n",
    "    \"Latin---Bossanova\",\n",
    "    \"Latin---Cha-Cha\",\n",
    "    \"Latin---Charanga\",\n",
    "    \"Latin---Compas\",\n",
    "    \"Latin---Cubano\",\n",
    "    \"Latin---Cumbia\",\n",
    "    \"Latin---Descarga\",\n",
    "    \"Latin---Forr\\u00f3\",\n",
    "    \"Latin---Guaguanc\\u00f3\",\n",
    "    \"Latin---Guajira\",\n",
    "    \"Latin---Guaracha\",\n",
    "    \"Latin---MPB\",\n",
    "    \"Latin---Mambo\",\n",
    "    \"Latin---Mariachi\",\n",
    "    \"Latin---Merengue\",\n",
    "    \"Latin---Norte\\u00f1o\",\n",
    "    \"Latin---Nueva Cancion\",\n",
    "    \"Latin---Pachanga\",\n",
    "    \"Latin---Porro\",\n",
    "    \"Latin---Ranchera\",\n",
    "    \"Latin---Reggaeton\",\n",
    "    \"Latin---Rumba\",\n",
    "    \"Latin---Salsa\",\n",
    "    \"Latin---Samba\",\n",
    "    \"Latin---Son\",\n",
    "    \"Latin---Son Montuno\",\n",
    "    \"Latin---Tango\",\n",
    "    \"Latin---Tejano\",\n",
    "    \"Latin---Vallenato\",\n",
    "    \"Non-Music---Audiobook\",\n",
    "    \"Non-Music---Comedy\",\n",
    "    \"Non-Music---Dialogue\",\n",
    "    \"Non-Music---Education\",\n",
    "    \"Non-Music---Field Recording\",\n",
    "    \"Non-Music---Interview\",\n",
    "    \"Non-Music---Monolog\",\n",
    "    \"Non-Music---Poetry\",\n",
    "    \"Non-Music---Political\",\n",
    "    \"Non-Music---Promotional\",\n",
    "    \"Non-Music---Radioplay\",\n",
    "    \"Non-Music---Religious\",\n",
    "    \"Non-Music---Spoken Word\",\n",
    "    \"Pop---Ballad\",\n",
    "    \"Pop---Bollywood\",\n",
    "    \"Pop---Bubblegum\",\n",
    "    \"Pop---Chanson\",\n",
    "    \"Pop---City Pop\",\n",
    "    \"Pop---Europop\",\n",
    "    \"Pop---Indie Pop\",\n",
    "    \"Pop---J-pop\",\n",
    "    \"Pop---K-pop\",\n",
    "    \"Pop---Kay\\u014dkyoku\",\n",
    "    \"Pop---Light Music\",\n",
    "    \"Pop---Music Hall\",\n",
    "    \"Pop---Novelty\",\n",
    "    \"Pop---Parody\",\n",
    "    \"Pop---Schlager\",\n",
    "    \"Pop---Vocal\",\n",
    "    \"Reggae---Calypso\",\n",
    "    \"Reggae---Dancehall\",\n",
    "    \"Reggae---Dub\",\n",
    "    \"Reggae---Lovers Rock\",\n",
    "    \"Reggae---Ragga\",\n",
    "    \"Reggae---Reggae\",\n",
    "    \"Reggae---Reggae-Pop\",\n",
    "    \"Reggae---Rocksteady\",\n",
    "    \"Reggae---Roots Reggae\",\n",
    "    \"Reggae---Ska\",\n",
    "    \"Reggae---Soca\",\n",
    "    \"Rock---AOR\",\n",
    "    \"Rock---Acid Rock\",\n",
    "    \"Rock---Acoustic\",\n",
    "    \"Rock---Alternative Rock\",\n",
    "    \"Rock---Arena Rock\",\n",
    "    \"Rock---Art Rock\",\n",
    "    \"Rock---Atmospheric Black Metal\",\n",
    "    \"Rock---Avantgarde\",\n",
    "    \"Rock---Beat\",\n",
    "    \"Rock---Black Metal\",\n",
    "    \"Rock---Blues Rock\",\n",
    "    \"Rock---Brit Pop\",\n",
    "    \"Rock---Classic Rock\",\n",
    "    \"Rock---Coldwave\",\n",
    "    \"Rock---Country Rock\",\n",
    "    \"Rock---Crust\",\n",
    "    \"Rock---Death Metal\",\n",
    "    \"Rock---Deathcore\",\n",
    "    \"Rock---Deathrock\",\n",
    "    \"Rock---Depressive Black Metal\",\n",
    "    \"Rock---Doo Wop\",\n",
    "    \"Rock---Doom Metal\",\n",
    "    \"Rock---Dream Pop\",\n",
    "    \"Rock---Emo\",\n",
    "    \"Rock---Ethereal\",\n",
    "    \"Rock---Experimental\",\n",
    "    \"Rock---Folk Metal\",\n",
    "    \"Rock---Folk Rock\",\n",
    "    \"Rock---Funeral Doom Metal\",\n",
    "    \"Rock---Funk Metal\",\n",
    "    \"Rock---Garage Rock\",\n",
    "    \"Rock---Glam\",\n",
    "    \"Rock---Goregrind\",\n",
    "    \"Rock---Goth Rock\",\n",
    "    \"Rock---Gothic Metal\",\n",
    "    \"Rock---Grindcore\",\n",
    "    \"Rock---Grunge\",\n",
    "    \"Rock---Hard Rock\",\n",
    "    \"Rock---Hardcore\",\n",
    "    \"Rock---Heavy Metal\",\n",
    "    \"Rock---Indie Rock\",\n",
    "    \"Rock---Industrial\",\n",
    "    \"Rock---Krautrock\",\n",
    "    \"Rock---Lo-Fi\",\n",
    "    \"Rock---Lounge\",\n",
    "    \"Rock---Math Rock\",\n",
    "    \"Rock---Melodic Death Metal\",\n",
    "    \"Rock---Melodic Hardcore\",\n",
    "    \"Rock---Metalcore\",\n",
    "    \"Rock---Mod\",\n",
    "    \"Rock---Neofolk\",\n",
    "    \"Rock---New Wave\",\n",
    "    \"Rock---No Wave\",\n",
    "    \"Rock---Noise\",\n",
    "    \"Rock---Noisecore\",\n",
    "    \"Rock---Nu Metal\",\n",
    "    \"Rock---Oi\",\n",
    "    \"Rock---Parody\",\n",
    "    \"Rock---Pop Punk\",\n",
    "    \"Rock---Pop Rock\",\n",
    "    \"Rock---Pornogrind\",\n",
    "    \"Rock---Post Rock\",\n",
    "    \"Rock---Post-Hardcore\",\n",
    "    \"Rock---Post-Metal\",\n",
    "    \"Rock---Post-Punk\",\n",
    "    \"Rock---Power Metal\",\n",
    "    \"Rock---Power Pop\",\n",
    "    \"Rock---Power Violence\",\n",
    "    \"Rock---Prog Rock\",\n",
    "    \"Rock---Progressive Metal\",\n",
    "    \"Rock---Psychedelic Rock\",\n",
    "    \"Rock---Psychobilly\",\n",
    "    \"Rock---Pub Rock\",\n",
    "    \"Rock---Punk\",\n",
    "    \"Rock---Rock & Roll\",\n",
    "    \"Rock---Rockabilly\",\n",
    "    \"Rock---Shoegaze\",\n",
    "    \"Rock---Ska\",\n",
    "    \"Rock---Sludge Metal\",\n",
    "    \"Rock---Soft Rock\",\n",
    "    \"Rock---Southern Rock\",\n",
    "    \"Rock---Space Rock\",\n",
    "    \"Rock---Speed Metal\",\n",
    "    \"Rock---Stoner Rock\",\n",
    "    \"Rock---Surf\",\n",
    "    \"Rock---Symphonic Rock\",\n",
    "    \"Rock---Technical Death Metal\",\n",
    "    \"Rock---Thrash\",\n",
    "    \"Rock---Twist\",\n",
    "    \"Rock---Viking Metal\",\n",
    "    \"Rock---Y\\u00e9-Y\\u00e9\",\n",
    "    \"Stage & Screen---Musical\",\n",
    "    \"Stage & Screen---Score\",\n",
    "    \"Stage & Screen---Soundtrack\",\n",
    "    \"Stage & Screen---Theme\"\n",
    "]\n",
    "\n",
    "discogs_labels_tier_1 = [\n",
    "    \"Blues\",\n",
    "    \"Brass & Military\",\n",
    "    \"Children's\",\n",
    "    \"Classical\",\n",
    "    \"Electronic\",\n",
    "    \"Folk, World, & Country\",\n",
    "    \"Funk / Soul\",\n",
    "    \"Hip Hop\",\n",
    "    \"Jazz\",\n",
    "    \"Latin\",\n",
    "    \"Non-Music\",\n",
    "    \"Pop\",\n",
    "    \"Reggae\",\n",
    "    \"Rock\",\n",
    "    \"Stage & Screen\"\n",
    "]\n",
    "\n",
    "set(labels)"
   ]
  },
  {
   "cell_type": "code",
   "execution_count": 11,
   "metadata": {},
   "outputs": [
    {
     "data": {
      "text/plain": [
       "['blues', 'classical', 'jazz', 'pop', 'reggae', 'rock']"
      ]
     },
     "execution_count": 11,
     "metadata": {},
     "output_type": "execute_result"
    }
   ],
   "source": [
    "[\n",
    "    dlabel.lower()\n",
    "    for dlabel in discogs_labels_tier_1\n",
    "    if dlabel.lower() in set(labels)\n",
    "]"
   ]
  },
  {
   "cell_type": "code",
   "execution_count": 12,
   "metadata": {},
   "outputs": [
    {
     "data": {
      "text/plain": [
       "['brass & military',\n",
       " \"children's\",\n",
       " 'electronic',\n",
       " 'folk, world, & country',\n",
       " 'funk / soul',\n",
       " 'hip hop',\n",
       " 'latin',\n",
       " 'non-music',\n",
       " 'stage & screen']"
      ]
     },
     "execution_count": 12,
     "metadata": {},
     "output_type": "execute_result"
    }
   ],
   "source": [
    "[\n",
    "    dlabel.lower()\n",
    "    for dlabel in discogs_labels_tier_1\n",
    "    if dlabel.lower() not in set(\" \".join(labels).split(\" \"))\n",
    "]"
   ]
  },
  {
   "cell_type": "code",
   "execution_count": 13,
   "metadata": {},
   "outputs": [
    {
     "data": {
      "text/plain": [
       "{'country', 'disco', 'hiphop', 'metal'}"
      ]
     },
     "execution_count": 13,
     "metadata": {},
     "output_type": "execute_result"
    }
   ],
   "source": [
    "set(labels) - set([\n",
    "    dlabel.lower()\n",
    "    for dlabel in discogs_labels_tier_1\n",
    "    if dlabel.lower() in set(labels)\n",
    "])"
   ]
  },
  {
   "cell_type": "code",
   "execution_count": null,
   "metadata": {},
   "outputs": [],
   "source": [
    "label_to_dlabel = {\n",
    "    \"blue\": \"Blues\",\n",
    "    \"country\": \"Folk, World, & Country\",\n",
    "    \"classical\": \"Classical\",\n",
    "    \"disco\": \"Funk / Soul\",\n",
    "    \"hiphop\": \"Hip Hop\",\n",
    "    \"jazz\": \"Jazz\",\n",
    "    \"pop\": \"Pop\",\n",
    "    \"reggae\": \"Reggae\",\n",
    "    \"rock\": \"Rock\",\n",
    "    # \"metal\": \"Missing\",\n",
    "}"
   ]
  }
 ],
 "metadata": {
  "kernelspec": {
   "display_name": "music-genre",
   "language": "python",
   "name": "python3"
  },
  "language_info": {
   "codemirror_mode": {
    "name": "ipython",
    "version": 3
   },
   "file_extension": ".py",
   "mimetype": "text/x-python",
   "name": "python",
   "nbconvert_exporter": "python",
   "pygments_lexer": "ipython3",
   "version": "3.11.5"
  },
  "orig_nbformat": 4
 },
 "nbformat": 4,
 "nbformat_minor": 2
}
