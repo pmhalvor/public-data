version https://git-lfs.github.com/spec/v1
oid sha256:63ec6728ef61a91b83ae7fc3a5a6ddafccef22e63ee1b22f0c6e0a6862ab21fe
size 1619219
