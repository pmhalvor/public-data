version https://git-lfs.github.com/spec/v1
oid sha256:1ab6c0f6a16d80737ebe6d4f179cc04613e9926f98be5a6fcc383bfe12171712
size 299123
