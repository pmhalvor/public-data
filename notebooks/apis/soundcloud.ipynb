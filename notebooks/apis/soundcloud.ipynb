{
 "cells": [
  {
   "cell_type": "markdown",
   "metadata": {},
   "source": [
    "# Soundcloud API\n",
    "\n",
    "The [SoundCould API](https://developers.soundcloud.com/docs/api/guide) is currently not taking requests for new applications. However, you can still use the API to access public data.  This notebook shows how to use the API to access public data.\n",
    "\n"
   ]
  },
  {
   "cell_type": "markdown",
   "metadata": {},
   "source": []
  }
 ],
 "metadata": {
  "kernelspec": {
   "display_name": "Python 3",
   "language": "python",
   "name": "python3"
  },
  "language_info": {
   "name": "python",
   "version": "3.11.5"
  },
  "orig_nbformat": 4
 },
 "nbformat": 4,
 "nbformat_minor": 2
}
